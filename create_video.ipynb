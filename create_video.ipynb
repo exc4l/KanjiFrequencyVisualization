{
 "cells": [
  {
   "cell_type": "code",
   "execution_count": 23,
   "metadata": {},
   "outputs": [],
   "source": [
    "import numpy as np\n",
    "from matplotlib.animation import FuncAnimation, FFMpegWriter\n",
    "import matplotlib.pyplot as plt\n",
    "from collections import Counter\n",
    "from utils import remove_non_kanji\n",
    "\n",
    "plt.style.use('seaborn-pastel')"
   ]
  },
  {
   "cell_type": "code",
   "execution_count": 32,
   "metadata": {},
   "outputs": [],
   "source": [
    "# settings\n",
    "max_kanji_rank = 25000\n",
    "figure_size = (12, 8) # \n",
    "dpi = 150 # this results in a video with dimensions 1800*1200\n",
    "          # dpi does affect the quality of the text rendering\n",
    "fps = 90\n",
    "font_family = 'Noto Sans JP' # font used for the kanji display\n",
    "filename = 'kanjimax90.mp4'\n",
    "codec = 'libx264'\n",
    "crf = '20'"
   ]
  },
  {
   "cell_type": "code",
   "execution_count": 33,
   "metadata": {},
   "outputs": [],
   "source": [
    "# you need to change this function according to your purposes\n",
    "# have it return a string or list of words\n",
    "def get_text_data():\n",
    "    with open('corpus.txt', 'r', encoding = 'utf-8') as file:\n",
    "        corpus = file.read()\n",
    "    return corpus"
   ]
  },
  {
   "cell_type": "code",
   "execution_count": 34,
   "metadata": {},
   "outputs": [
    {
     "data": {
      "image/png": "[encoded data removed]",
      "text/plain": [
       "<Figure size 864x576 with 1 Axes>"
      ]
     },
     "metadata": {
      "needs_background": "light"
     },
     "output_type": "display_data"
    }
   ],
   "source": [
    "# calculate the cumulative values\n",
    "corpus = remove_non_kanji(get_text_data())\n",
    "kanji_counter = Counter(corpus)\n",
    "val = [k for k,v in kanji_counter.most_common()]\n",
    "count = [v for k,v in kanji_counter.most_common()]\n",
    "count_cum = np.cumsum(np.array(count))/len(corpus)\n",
    "\n",
    "if max_kanji_rank > len(count):\n",
    "    max_kanji_rank = len(count)\n",
    "\n",
    "# setup figure\n",
    "fig = plt.figure()\n",
    "fig.set_size_inches(figure_size[0], figure_size[1])\n",
    "ax = plt.axes(xlim=(0, max_kanji_rank), ylim=(0, 1))\n",
    "ax.tick_params(labelsize=24)\n",
    "\n",
    "plt.xlabel('Rank', fontsize=32)\n",
    "plt.ylabel('Cumulative Frequency', fontsize=32)\n",
    "\n",
    "\n",
    "\n",
    "line, = ax.plot([], [], lw=4)\n",
    "last_point, = ax.plot([],[], 'ro', ms=16)\n",
    "\n",
    "annotation = ax.annotate(\n",
    "    'annotation', xy=(100,0.1), fontsize=24)\n",
    "\n",
    "kanji_display = ax.annotate(\n",
    "    '人', xy=(int(max_kanji_rank*20/25),0.15), fontsize=80, family=font_family)\n",
    "\n",
    "\n",
    "# actual data that will be plotted\n",
    "x = np.arange(1,max_kanji_rank+1,1)\n",
    "y = count_cum\n",
    "\n",
    "\n",
    "def init():\n",
    "    line.set_data([], [])\n",
    "    last_point.set_data([], [])\n",
    "    return line,\n",
    "\n",
    "\n",
    "def update(i):\n",
    "\n",
    "    new_x = x[:i+1]\n",
    "    new_y = y[:i+1]\n",
    "    line.set_data(new_x,new_y)\n",
    "    last_point.set_data(new_x[-1], new_y[-1])\n",
    "    # changes the position of the annotation according to the current frame\n",
    "    # some magic numbers that kind of worked out\n",
    "    if i < 400:\n",
    "        annotation.set_position((new_x[-1]+50,new_y[-1]+0.1))\n",
    "    elif i< int(max_kanji_rank*19/25):\n",
    "        annotation.set_position((new_x[-1]+70,new_y[-1]-0.2))\n",
    "    else:\n",
    "        annotation.set_position((int(max_kanji_rank*20/25),0.75))\n",
    "    annotation.set_text(f'Rank {i+1}\\n{count_cum[i]:.3f}')\n",
    "    kanji_display.set_text(f'{val[i]}')\n",
    "\n",
    "    return line, annotation,\n",
    "\n",
    "ani = FuncAnimation(\n",
    "    fig, update, init_func=init, frames=max_kanji_rank, blit=True)"
   ]
  },
  {
   "cell_type": "code",
   "execution_count": 35,
   "metadata": {},
   "outputs": [],
   "source": [
    "writer = FFMpegWriter(fps=fps, codec=codec, extra_args=['-crf', crf])\n",
    "ani.save(filename, writer=writer, dpi=dpi)"
   ]
  },
  {
   "cell_type": "code",
   "execution_count": null,
   "metadata": {},
   "outputs": [],
   "source": []
  }
 ],
 "metadata": {
  "kernelspec": {
   "display_name": "Python 3",
   "language": "python",
   "name": "python3"
  },
  "language_info": {
   "codemirror_mode": {
    "name": "ipython",
    "version": 3
   },
   "file_extension": ".py",
   "mimetype": "text/x-python",
   "name": "python",
   "nbconvert_exporter": "python",
   "pygments_lexer": "ipython3",
   "version": "3.8.3"
  }
 },
 "nbformat": 4,
 "nbformat_minor": 4
}
